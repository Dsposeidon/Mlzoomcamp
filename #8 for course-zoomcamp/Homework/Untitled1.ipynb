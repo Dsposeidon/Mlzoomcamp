{
 "cells": [
  {
   "cell_type": "code",
   "execution_count": 5,
   "id": "93bd7ee5",
   "metadata": {
    "scrolled": true
   },
   "outputs": [],
   "source": [
    "import bentoml\n",
    "import os\n",
    "from pydantic import BaseModel\n"
   ]
  },
  {
   "cell_type": "code",
   "execution_count": 3,
   "id": "7b5d9b22",
   "metadata": {},
   "outputs": [
    {
     "name": "stdout",
     "output_type": "stream",
     "text": [
      "1.0.7\n"
     ]
    }
   ],
   "source": [
    "v = bentoml.__version__\n",
    "print(v)"
   ]
  },
  {
   "cell_type": "code",
   "execution_count": 4,
   "id": "c5b3a1dc",
   "metadata": {},
   "outputs": [
    {
     "name": "stdout",
     "output_type": "stream",
     "text": [
      "4096\n"
     ]
    }
   ],
   "source": [
    "\n",
    "file_size = os.path.getsize(bentoml.models.list()[0].path)\n",
    "print(file_size)"
   ]
  },
  {
   "cell_type": "code",
   "execution_count": 6,
   "id": "843d0c83",
   "metadata": {},
   "outputs": [],
   "source": [
    "class UserProfile (BaseModel):\n",
    "    name: str\n",
    "    age: int\n",
    "    country: str\n",
    "    rating: float\n",
    "        "
   ]
  },
  {
   "cell_type": "code",
   "execution_count": 7,
   "id": "dff28608",
   "metadata": {},
   "outputs": [
    {
     "name": "stdout",
     "output_type": "stream",
     "text": [
      "name: mlzoomcamp_homework                                                      \n",
      "version: qtzdz3slg6mwwdu5                                                      \n",
      "module: bentoml.sklearn                                                        \n",
      "labels: {}                                                                     \n",
      "options: {}                                                                    \n",
      "metadata: {}                                                                   \n",
      "context:                                                                       \n",
      "  framework_name: sklearn                                                      \n",
      "  framework_versions:                                                          \n",
      "    scikit-learn: 1.1.1                                                        \n",
      "  bentoml_version: 1.0.7                                                       \n",
      "  python_version: 3.9.12                                                       \n",
      "signatures:                                                                    \n",
      "  predict:                                                                     \n",
      "    batchable: false                                                           \n",
      "api_version: v1                                                                \n",
      "creation_time: '2022-10-13T20:42:14.411084+00:00'                              \n",
      "                                                                               \n"
     ]
    }
   ],
   "source": [
    "!bentoml models get mlzoomcamp_homework:qtzdz3slg6mwwdu5"
   ]
  },
  {
   "cell_type": "code",
   "execution_count": 8,
   "id": "b2c2a940",
   "metadata": {},
   "outputs": [
    {
     "data": {
      "text/plain": [
       "'[1]'"
      ]
     },
     "execution_count": 8,
     "metadata": {},
     "output_type": "execute_result"
    }
   ],
   "source": [
    "import requests\n",
    "\n",
    "info = '[[6.4,3.5,4.5,1.2]]'\n",
    "\n",
    "response = requests.post(\"http://localhost:3000/classify\", headers={\"content-type\": \"application/json\"},\n",
    "                         data=info,).text\n",
    "\n",
    "response"
   ]
  },
  {
   "cell_type": "code",
   "execution_count": 9,
   "id": "7d0cb5b4",
   "metadata": {},
   "outputs": [
    {
     "name": "stderr",
     "output_type": "stream",
     "text": [
      "  % Total    % Received % Xferd  Average Speed   Time    Time     Time  Current\n",
      "                                 Dload  Upload   Total   Spent    Left  Speed\n",
      "\n",
      "  0     0    0     0    0     0      0      0 --:--:-- --:--:-- --:--:--     0\n",
      "100  1728  100  1728    0     0   1631      0  0:00:01  0:00:01 --:--:--  1633\n",
      "100  1728  100  1728    0     0   1630      0  0:00:01  0:00:01 --:--:--  1633\n"
     ]
    }
   ],
   "source": [
    "!curl -O https://s3.us-west-2.amazonaws.com/bentoml.com/mlzoomcamp/coolmodel2.bentomodel"
   ]
  },
  {
   "cell_type": "code",
   "execution_count": 10,
   "id": "65a4fddc",
   "metadata": {},
   "outputs": [
    {
     "name": "stderr",
     "output_type": "stream",
     "text": [
      "Error: [models] `import` failed: Item 'mlzoomcamp_homework:jsi67fslz6txydu5' already exists in the store <osfs 'C:\\Users\\gh611680\\bentoml\\models'>\n"
     ]
    }
   ],
   "source": [
    "!bentoml models import coolmodel2.bentomodel"
   ]
  },
  {
   "cell_type": "code",
   "execution_count": null,
   "id": "41d6869c",
   "metadata": {},
   "outputs": [],
   "source": []
  }
 ],
 "metadata": {
  "kernelspec": {
   "display_name": "Python 3 (ipykernel)",
   "language": "python",
   "name": "python3"
  },
  "language_info": {
   "codemirror_mode": {
    "name": "ipython",
    "version": 3
   },
   "file_extension": ".py",
   "mimetype": "text/x-python",
   "name": "python",
   "nbconvert_exporter": "python",
   "pygments_lexer": "ipython3",
   "version": "3.10.4"
  }
 },
 "nbformat": 4,
 "nbformat_minor": 5
}
